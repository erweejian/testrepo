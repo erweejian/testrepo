{
 "cells": [
  {
   "cell_type": "markdown",
   "id": "3d8956f4-95c2-4ac4-a492-9fa93ac17562",
   "metadata": {},
   "source": [
    "# My Jupyter Notebook on IBM Watson Studio"
   ]
  },
  {
   "cell_type": "markdown",
   "id": "e696db3f-f396-4054-ab41-b5e61f1a6cfd",
   "metadata": {},
   "source": [
    "**ER WEE JIAN**\n",
    "\n",
    "Actuary"
   ]
  },
  {
   "cell_type": "markdown",
   "id": "f60af1b6-cc29-47ec-9fd6-dcef988666d1",
   "metadata": {},
   "source": [
    "*I am interested in data science because I believe it will help progress my career.*"
   ]
  },
  {
   "cell_type": "markdown",
   "id": "f41060b6-9cad-401c-b23f-286fe4947819",
   "metadata": {},
   "source": [
    "### The following code does some really simple maths"
   ]
  },
  {
   "cell_type": "code",
   "execution_count": 1,
   "id": "b0f3f604-48a1-43b2-a4f3-3259eabc4217",
   "metadata": {},
   "outputs": [
    {
     "data": {
      "text/plain": [
       "2"
      ]
     },
     "execution_count": 1,
     "metadata": {},
     "output_type": "execute_result"
    }
   ],
   "source": [
    "1+1"
   ]
  },
  {
   "cell_type": "markdown",
   "id": "2942e0a8-5a05-4c33-9cec-79883796b9cf",
   "metadata": {},
   "source": [
    "~~strikethrough~~\n",
    "\n",
    "1. item one\n",
    "2. item two\n",
    "3. item three\n",
    "\n",
    "<https://www.google.com>"
   ]
  },
  {
   "cell_type": "code",
   "execution_count": null,
   "id": "06cce0b4-0ef0-4b2e-a319-a15b9e6a2891",
   "metadata": {},
   "outputs": [],
   "source": []
  }
 ],
 "metadata": {
  "kernelspec": {
   "display_name": "Python",
   "language": "python",
   "name": "conda-env-python-py"
  },
  "language_info": {
   "codemirror_mode": {
    "name": "ipython",
    "version": 3
   },
   "file_extension": ".py",
   "mimetype": "text/x-python",
   "name": "python",
   "nbconvert_exporter": "python",
   "pygments_lexer": "ipython3",
   "version": "3.7.12"
  }
 },
 "nbformat": 4,
 "nbformat_minor": 5
}
